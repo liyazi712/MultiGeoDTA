{
 "cells": [
  {
   "cell_type": "code",
   "execution_count": null,
   "id": "initial_id",
   "metadata": {
    "collapsed": true
   },
   "outputs": [],
   "source": [
    "obabel ZINC000012156381.sdf -O ZINC000012156381.pdbqt\n",
    "\n",
    "\n",
    "obabel alphafold_protein.pdb -O alphafold_protein.pdbqt -xr\n",
    "obabel 5xra.pdb -O 5xra.pdbqt -xr\n",
    "\n",
    "\n",
    "../autodock_vina_1_1_2_linux_x86/bin/vina --config config.txt\n",
    "\n",
    "\n"
   ]
  },
  {
   "cell_type": "code",
   "outputs": [],
   "source": [
    "import os\n",
    "\n",
    "molecule_ids = [\n",
    "    \"ZINC000749087800\",\n",
    "    \"ZINC000019214839\",\n",
    "    \"ZINC000518437019\",\n",
    "    \"ZINC000012156381\",\n",
    "    \"ZINC000306142100\",\n",
    "    \"ZINC000306137110\",\n",
    "    \"ZINC000019289571\",\n",
    "    \"ZINC000019553307\",\n",
    "    \"ZINC000019498244\",\n",
    "    \"ZINC000012181259\"\n",
    "]\n",
    "\n",
    "# 定义输入和输出路径\n",
    "input_directory = \"./\"  # 输入文件所在的目录\n",
    "output_directory = \"./\"  # 输出文件保存的目录\n",
    "\n",
    "# 确保输出目录存在\n",
    "os.makedirs(output_directory, exist_ok=True)\n",
    "\n",
    "# 循环处理每个分子\n",
    "for mol_id in molecule_ids:\n",
    "    input_file = os.path.join(input_directory, f\"{mol_id}.sdf\")\n",
    "    output_file = os.path.join(output_directory, f\"{mol_id}.pdbqt\")\n",
    "    \n",
    "    # 检查输入文件是否存在\n",
    "    if not os.path.exists(input_file):\n",
    "        print(f\"输入文件 {input_file} 不存在，跳过该分子。\")\n",
    "        continue\n",
    "    command = f\"obabel {input_file} -O {output_file}\"\n",
    "    os.system(command)\n",
    "    print(f\"已处理 {mol_id}\")"
   ],
   "metadata": {
    "collapsed": false
   },
   "id": "1f2a8d0b653f55af"
  }
 ],
 "metadata": {
  "kernelspec": {
   "display_name": "Python 3",
   "language": "python",
   "name": "python3"
  },
  "language_info": {
   "codemirror_mode": {
    "name": "ipython",
    "version": 2
   },
   "file_extension": ".py",
   "mimetype": "text/x-python",
   "name": "python",
   "nbconvert_exporter": "python",
   "pygments_lexer": "ipython2",
   "version": "2.7.6"
  }
 },
 "nbformat": 4,
 "nbformat_minor": 5
}
